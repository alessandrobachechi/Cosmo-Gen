{
  "nbformat": 4,
  "nbformat_minor": 0,
  "metadata": {
    "colab": {
      "provenance": [],
      "authorship_tag": "ABX9TyMqisPEv+ViPjTJ8Uh0HZ4b",
      "include_colab_link": true
    },
    "kernelspec": {
      "name": "python3",
      "display_name": "Python 3"
    },
    "language_info": {
      "name": "python"
    }
  },
  "cells": [
    {
      "cell_type": "markdown",
      "metadata": {
        "id": "view-in-github",
        "colab_type": "text"
      },
      "source": [
        "<a href=\"https://colab.research.google.com/github/alessandrobachechi/Cosmo-Gen/blob/main/Numpy.ipynb\" target=\"_parent\"><img src=\"https://colab.research.google.com/assets/colab-badge.svg\" alt=\"Open In Colab\"/></a>"
      ]
    },
    {
      "cell_type": "markdown",
      "source": [
        "# **NumPy**\n",
        "\n",
        "\n",
        "\n",
        "\n"
      ],
      "metadata": {
        "id": "1PfMsM-3y0Lh"
      }
    },
    {
      "cell_type": "markdown",
      "source": [
        " Importa NumPy"
      ],
      "metadata": {
        "id": "NjWFGo7sy2ci"
      }
    },
    {
      "cell_type": "code",
      "source": [
        "import numpy as np"
      ],
      "metadata": {
        "id": "3MxBSWGhzAb5"
      },
      "execution_count": null,
      "outputs": []
    },
    {
      "cell_type": "markdown",
      "source": [
        "# NumPy **Array**"
      ],
      "metadata": {
        "id": "eBowIJ5T1tkh"
      }
    },
    {
      "cell_type": "markdown",
      "source": [
        "# **np.array( )**"
      ],
      "metadata": {
        "id": "FTtweEHQ144U"
      }
    },
    {
      "cell_type": "markdown",
      "source": [
        "**Creating NumPy Arrays from Objects**"
      ],
      "metadata": {
        "id": "pLJ454ru2GzK"
      }
    },
    {
      "cell_type": "code",
      "source": [
        "my_matrix = [[1,2,3],[4,5,6],[7,8,9,]]"
      ],
      "metadata": {
        "id": "11ZdKKad10A8"
      },
      "execution_count": null,
      "outputs": []
    },
    {
      "cell_type": "code",
      "source": [
        "np.array(my_matrix)"
      ],
      "metadata": {
        "colab": {
          "base_uri": "https://localhost:8080/"
        },
        "id": "WmjqXcM22cAT",
        "outputId": "ee8620ed-1f7e-41c7-edfb-2c021147d631"
      },
      "execution_count": null,
      "outputs": [
        {
          "output_type": "execute_result",
          "data": {
            "text/plain": [
              "array([[1, 2, 3],\n",
              "       [4, 5, 6],\n",
              "       [7, 8, 9]])"
            ]
          },
          "metadata": {},
          "execution_count": 28
        }
      ]
    },
    {
      "cell_type": "markdown",
      "source": [
        "# **np.arange( )**"
      ],
      "metadata": {
        "id": "1M5Dx2Ck2yd4"
      }
    },
    {
      "cell_type": "code",
      "source": [
        "np.arange(0,10)"
      ],
      "metadata": {
        "colab": {
          "base_uri": "https://localhost:8080/"
        },
        "id": "cbAcOSIM2c7Z",
        "outputId": "db670b9f-cfa4-4c46-9e6f-5a1b8156d19c"
      },
      "execution_count": null,
      "outputs": [
        {
          "output_type": "execute_result",
          "data": {
            "text/plain": [
              "array([0, 1, 2, 3, 4, 5, 6, 7, 8, 9])"
            ]
          },
          "metadata": {},
          "execution_count": 29
        }
      ]
    },
    {
      "cell_type": "code",
      "source": [
        "np.arange(0,11,2)"
      ],
      "metadata": {
        "colab": {
          "base_uri": "https://localhost:8080/"
        },
        "id": "vWgupGQz3DQi",
        "outputId": "f4fe7d6f-4d75-423b-c333-01d9fc2d588c"
      },
      "execution_count": null,
      "outputs": [
        {
          "output_type": "execute_result",
          "data": {
            "text/plain": [
              "array([ 0,  2,  4,  6,  8, 10])"
            ]
          },
          "metadata": {},
          "execution_count": 30
        }
      ]
    },
    {
      "cell_type": "markdown",
      "source": [
        "# **np.zeros(( )) np.ones(( ))**"
      ],
      "metadata": {
        "id": "VQ7rw5YQ3Jqm"
      }
    },
    {
      "cell_type": "markdown",
      "source": [
        "Generate arrays of zeros or ones."
      ],
      "metadata": {
        "id": "uFUYTT2C3Ona"
      }
    },
    {
      "cell_type": "code",
      "source": [
        "np.zeros(3)"
      ],
      "metadata": {
        "colab": {
          "base_uri": "https://localhost:8080/"
        },
        "id": "dv11g1k73FWZ",
        "outputId": "c8fa4ffe-4fac-4ea0-d30c-f446e138c1c9"
      },
      "execution_count": null,
      "outputs": [
        {
          "output_type": "execute_result",
          "data": {
            "text/plain": [
              "array([0., 0., 0.])"
            ]
          },
          "metadata": {},
          "execution_count": 31
        }
      ]
    },
    {
      "cell_type": "code",
      "source": [
        "np.zeros((5,5))"
      ],
      "metadata": {
        "colab": {
          "base_uri": "https://localhost:8080/"
        },
        "id": "oED6-9f83igC",
        "outputId": "13e4e23f-8ba8-4d9e-8c73-08cbe92a91aa"
      },
      "execution_count": null,
      "outputs": [
        {
          "output_type": "execute_result",
          "data": {
            "text/plain": [
              "array([[0., 0., 0., 0., 0.],\n",
              "       [0., 0., 0., 0., 0.],\n",
              "       [0., 0., 0., 0., 0.],\n",
              "       [0., 0., 0., 0., 0.],\n",
              "       [0., 0., 0., 0., 0.]])"
            ]
          },
          "metadata": {},
          "execution_count": 32
        }
      ]
    },
    {
      "cell_type": "code",
      "source": [
        "np.ones((3,3))"
      ],
      "metadata": {
        "colab": {
          "base_uri": "https://localhost:8080/"
        },
        "id": "G7Lx0TkY3j8z",
        "outputId": "87b70ccc-990c-4ea7-ceb6-5113eb161474"
      },
      "execution_count": null,
      "outputs": [
        {
          "output_type": "execute_result",
          "data": {
            "text/plain": [
              "array([[1., 1., 1.],\n",
              "       [1., 1., 1.],\n",
              "       [1., 1., 1.]])"
            ]
          },
          "metadata": {},
          "execution_count": 33
        }
      ]
    },
    {
      "cell_type": "markdown",
      "source": [
        "# **np.linspace( )**\n",
        "\n"
      ],
      "metadata": {
        "id": "uxsbhYJs33C3"
      }
    },
    {
      "cell_type": "markdown",
      "source": [
        "Return evenly spaced numbers over a specified interval."
      ],
      "metadata": {
        "id": "hQMkeb9-4F6M"
      }
    },
    {
      "cell_type": "code",
      "source": [
        "np.linspace(0,10,3)"
      ],
      "metadata": {
        "colab": {
          "base_uri": "https://localhost:8080/"
        },
        "id": "zlLOzL3c3-5e",
        "outputId": "8a8c240c-0126-441b-fab7-bdcea5cec410"
      },
      "execution_count": null,
      "outputs": [
        {
          "output_type": "execute_result",
          "data": {
            "text/plain": [
              "array([ 0.,  5., 10.])"
            ]
          },
          "metadata": {},
          "execution_count": 34
        }
      ]
    },
    {
      "cell_type": "code",
      "source": [
        "np.linspace(0,5,20)"
      ],
      "metadata": {
        "colab": {
          "base_uri": "https://localhost:8080/"
        },
        "id": "XdzlLuT14Dj0",
        "outputId": "002ea766-bbf6-4b14-9609-997c4518df2f"
      },
      "execution_count": null,
      "outputs": [
        {
          "output_type": "execute_result",
          "data": {
            "text/plain": [
              "array([0.        , 0.26315789, 0.52631579, 0.78947368, 1.05263158,\n",
              "       1.31578947, 1.57894737, 1.84210526, 2.10526316, 2.36842105,\n",
              "       2.63157895, 2.89473684, 3.15789474, 3.42105263, 3.68421053,\n",
              "       3.94736842, 4.21052632, 4.47368421, 4.73684211, 5.        ])"
            ]
          },
          "metadata": {},
          "execution_count": 35
        }
      ]
    },
    {
      "cell_type": "markdown",
      "source": [
        "Note that `.linspace()` includes the stop value."
      ],
      "metadata": {
        "id": "NN-9Rt8f4JFh"
      }
    },
    {
      "cell_type": "markdown",
      "source": [
        "# **.eye( )**"
      ],
      "metadata": {
        "id": "EZ7YN9594Wps"
      }
    },
    {
      "cell_type": "code",
      "source": [
        "np.eye(4)"
      ],
      "metadata": {
        "colab": {
          "base_uri": "https://localhost:8080/"
        },
        "id": "9qVRNMnU4dCj",
        "outputId": "485673ed-3413-496b-b9b3-7735a8ffc4c2"
      },
      "execution_count": null,
      "outputs": [
        {
          "output_type": "execute_result",
          "data": {
            "text/plain": [
              "array([[1., 0., 0., 0.],\n",
              "       [0., 1., 0., 0.],\n",
              "       [0., 0., 1., 0.],\n",
              "       [0., 0., 0., 1.]])"
            ]
          },
          "metadata": {},
          "execution_count": 36
        }
      ]
    },
    {
      "cell_type": "markdown",
      "source": [
        "# **.rand( )**"
      ],
      "metadata": {
        "id": "ABX4pwar4iuE"
      }
    },
    {
      "cell_type": "markdown",
      "source": [
        "Creates an array of the given shape and populates it with random samples from a uniform distribution over [0, 1)."
      ],
      "metadata": {
        "id": "YlJS5aTQ4mMk"
      }
    },
    {
      "cell_type": "code",
      "source": [
        "np.random.rand(2)"
      ],
      "metadata": {
        "colab": {
          "base_uri": "https://localhost:8080/"
        },
        "id": "UENqx6684l4F",
        "outputId": "68647510-a216-4628-e4c9-89985a4c8231"
      },
      "execution_count": null,
      "outputs": [
        {
          "output_type": "execute_result",
          "data": {
            "text/plain": [
              "array([0.00708995, 0.32801386])"
            ]
          },
          "metadata": {},
          "execution_count": 37
        }
      ]
    },
    {
      "cell_type": "code",
      "source": [
        "np.random.rand(5,5)"
      ],
      "metadata": {
        "colab": {
          "base_uri": "https://localhost:8080/"
        },
        "id": "34gu7PTf4pni",
        "outputId": "a1760eb8-c6f1-48ae-db80-b54feae67ea9"
      },
      "execution_count": null,
      "outputs": [
        {
          "output_type": "execute_result",
          "data": {
            "text/plain": [
              "array([[0.78542866, 0.62081473, 0.03577283, 0.38977063, 0.20989321],\n",
              "       [0.04810065, 0.98117946, 0.5049931 , 0.64697364, 0.28713548],\n",
              "       [0.10781305, 0.72289749, 0.20817392, 0.6315331 , 0.56133581],\n",
              "       [0.41354324, 0.94623805, 0.07947251, 0.29728617, 0.90469442],\n",
              "       [0.89670622, 0.18116388, 0.91370789, 0.61034895, 0.25718477]])"
            ]
          },
          "metadata": {},
          "execution_count": 38
        }
      ]
    },
    {
      "cell_type": "markdown",
      "source": [
        "# **.randn( )**"
      ],
      "metadata": {
        "id": "awDGU7Xz4sna"
      }
    },
    {
      "cell_type": "markdown",
      "source": [
        "Returns a sample (or samples) from the \"standard normal\" distribution [σ = 1]. Unlike rand which is uniform, values closer to zero are more likely to appear."
      ],
      "metadata": {
        "id": "YbdBKZ5w40eN"
      }
    },
    {
      "cell_type": "code",
      "source": [
        "np.random.randn(2)"
      ],
      "metadata": {
        "colab": {
          "base_uri": "https://localhost:8080/"
        },
        "id": "1Wrdzrhi4rjT",
        "outputId": "cf64f825-fb6b-4346-cee5-76c51b0463d0"
      },
      "execution_count": null,
      "outputs": [
        {
          "output_type": "execute_result",
          "data": {
            "text/plain": [
              "array([-0.34071052, -0.41948927])"
            ]
          },
          "metadata": {},
          "execution_count": 39
        }
      ]
    },
    {
      "cell_type": "code",
      "source": [
        "np.random.randn(5,5)"
      ],
      "metadata": {
        "colab": {
          "base_uri": "https://localhost:8080/"
        },
        "id": "gj8CsxAA4yhO",
        "outputId": "2d86fcd3-66ca-4361-ae0c-c848311ef427"
      },
      "execution_count": null,
      "outputs": [
        {
          "output_type": "execute_result",
          "data": {
            "text/plain": [
              "array([[-2.0225306 ,  0.11318966,  0.28619738, -0.58866907,  0.07272833],\n",
              "       [-0.03115677,  0.73731598, -1.19280854,  1.61679037,  0.83668706],\n",
              "       [ 0.17794985,  0.98285432,  0.50316821, -0.6777575 ,  1.72212827],\n",
              "       [ 0.97221857,  0.97666593, -1.86178886,  1.18508305, -1.09960172],\n",
              "       [ 1.64668546,  1.55327601, -0.61561269, -1.98579607, -1.53314409]])"
            ]
          },
          "metadata": {},
          "execution_count": 40
        }
      ]
    },
    {
      "cell_type": "markdown",
      "source": [
        "# **.randint( )**"
      ],
      "metadata": {
        "id": "ZJJiSK1m46fe"
      }
    },
    {
      "cell_type": "markdown",
      "source": [
        "Returns random integers from low (inclusive) to high (exclusive)."
      ],
      "metadata": {
        "id": "TmfnwlbN49tj"
      }
    },
    {
      "cell_type": "code",
      "source": [
        "np.random.randint(1,100)"
      ],
      "metadata": {
        "colab": {
          "base_uri": "https://localhost:8080/"
        },
        "id": "znT3eoHj49WP",
        "outputId": "20277a2c-a5dc-440d-8e40-d4ddcfe2d2f9"
      },
      "execution_count": null,
      "outputs": [
        {
          "output_type": "execute_result",
          "data": {
            "text/plain": [
              "45"
            ]
          },
          "metadata": {},
          "execution_count": 41
        }
      ]
    },
    {
      "cell_type": "code",
      "source": [
        "np.random.randint(0,100,10)"
      ],
      "metadata": {
        "colab": {
          "base_uri": "https://localhost:8080/"
        },
        "id": "MGNIscCV4_-k",
        "outputId": "898e4572-b098-4ec9-a23b-ad74c435dced"
      },
      "execution_count": null,
      "outputs": [
        {
          "output_type": "execute_result",
          "data": {
            "text/plain": [
              "array([26, 96, 64,  2, 82, 38, 97, 45, 16, 65])"
            ]
          },
          "metadata": {},
          "execution_count": 42
        }
      ]
    },
    {
      "cell_type": "code",
      "source": [],
      "metadata": {
        "id": "bOZnB5vq5BnO"
      },
      "execution_count": null,
      "outputs": []
    },
    {
      "cell_type": "markdown",
      "source": [
        "# **.seed( )**"
      ],
      "metadata": {
        "id": "d6DvK4QG5Eo9"
      }
    },
    {
      "cell_type": "markdown",
      "source": [
        "Can be used to set the random state, so that the same \"random\" results can be reproduced"
      ],
      "metadata": {
        "id": "tMzMJse45GJr"
      }
    },
    {
      "cell_type": "code",
      "source": [
        "np.random.seed(42)\n",
        "np.random.rand(4)"
      ],
      "metadata": {
        "colab": {
          "base_uri": "https://localhost:8080/"
        },
        "id": "LnlBMFcX5JBz",
        "outputId": "e7de52fa-8517-4a5b-e07e-6b52e66d8a95"
      },
      "execution_count": null,
      "outputs": [
        {
          "output_type": "execute_result",
          "data": {
            "text/plain": [
              "array([0.37454012, 0.95071431, 0.73199394, 0.59865848])"
            ]
          },
          "metadata": {},
          "execution_count": 44
        }
      ]
    },
    {
      "cell_type": "markdown",
      "source": [
        "# **arr.methods( )**"
      ],
      "metadata": {
        "id": "w0JhVvGR6EYi"
      }
    },
    {
      "cell_type": "markdown",
      "source": [
        "Let's discuss some useful attributes and methods for an array:"
      ],
      "metadata": {
        "id": "-bWL5PUY6Jdo"
      }
    },
    {
      "cell_type": "markdown",
      "source": [
        "# **.reshape( )**"
      ],
      "metadata": {
        "id": "55VXu1126jlW"
      }
    },
    {
      "cell_type": "code",
      "source": [
        "arr = np.arange(25)"
      ],
      "metadata": {
        "id": "6ipimtG56toV"
      },
      "execution_count": null,
      "outputs": []
    },
    {
      "cell_type": "code",
      "source": [
        "arr.reshape(5,5)"
      ],
      "metadata": {
        "colab": {
          "base_uri": "https://localhost:8080/"
        },
        "id": "nvOvBQvl6wJt",
        "outputId": "c693b6e0-fb05-4ffa-dd0b-061446cb580e"
      },
      "execution_count": null,
      "outputs": [
        {
          "output_type": "execute_result",
          "data": {
            "text/plain": [
              "array([[ 0,  1,  2,  3,  4],\n",
              "       [ 5,  6,  7,  8,  9],\n",
              "       [10, 11, 12, 13, 14],\n",
              "       [15, 16, 17, 18, 19],\n",
              "       [20, 21, 22, 23, 24]])"
            ]
          },
          "metadata": {},
          "execution_count": 46
        }
      ]
    },
    {
      "cell_type": "markdown",
      "source": [
        "# **.max( ), .min( ),. argmax( ), .argmin( )**"
      ],
      "metadata": {
        "id": "EqrBG-H-636a"
      }
    },
    {
      "cell_type": "markdown",
      "source": [
        "These are useful methods for finding max or min values. Or to find their index locations using argmin or argmax"
      ],
      "metadata": {
        "id": "5O9fsLty68SG"
      }
    },
    {
      "cell_type": "code",
      "source": [
        "ranarr = np.random.randint(0,50,10)"
      ],
      "metadata": {
        "id": "iKHACCvH66X1"
      },
      "execution_count": null,
      "outputs": []
    },
    {
      "cell_type": "code",
      "source": [
        "ranarr.max()"
      ],
      "metadata": {
        "colab": {
          "base_uri": "https://localhost:8080/"
        },
        "id": "9Tpmw3uz6-PH",
        "outputId": "cf807cce-7323-44c7-db2b-ca17d676499e"
      },
      "execution_count": null,
      "outputs": [
        {
          "output_type": "execute_result",
          "data": {
            "text/plain": [
              "39"
            ]
          },
          "metadata": {},
          "execution_count": 48
        }
      ]
    },
    {
      "cell_type": "code",
      "source": [
        "ranarr.argmax()"
      ],
      "metadata": {
        "colab": {
          "base_uri": "https://localhost:8080/"
        },
        "id": "_b6jvZnt7AYa",
        "outputId": "a1ed4479-190b-461c-8dce-341400f26301"
      },
      "execution_count": null,
      "outputs": [
        {
          "output_type": "execute_result",
          "data": {
            "text/plain": [
              "7"
            ]
          },
          "metadata": {},
          "execution_count": 49
        }
      ]
    },
    {
      "cell_type": "code",
      "source": [
        "ranarr.min()"
      ],
      "metadata": {
        "colab": {
          "base_uri": "https://localhost:8080/"
        },
        "id": "mgKupGSV7CRt",
        "outputId": "ec851c0c-3230-4872-cbe7-358b40f59b14"
      },
      "execution_count": null,
      "outputs": [
        {
          "output_type": "execute_result",
          "data": {
            "text/plain": [
              "2"
            ]
          },
          "metadata": {},
          "execution_count": 50
        }
      ]
    },
    {
      "cell_type": "code",
      "source": [
        "ranarr.argmin()"
      ],
      "metadata": {
        "colab": {
          "base_uri": "https://localhost:8080/"
        },
        "id": "EfjxoDi67DtE",
        "outputId": "1e1b84e6-ed7c-41db-bac3-5d6ec814597c"
      },
      "execution_count": null,
      "outputs": [
        {
          "output_type": "execute_result",
          "data": {
            "text/plain": [
              "9"
            ]
          },
          "metadata": {},
          "execution_count": 51
        }
      ]
    },
    {
      "cell_type": "code",
      "source": [],
      "metadata": {
        "id": "ftDS3aY37FTw"
      },
      "execution_count": null,
      "outputs": []
    },
    {
      "cell_type": "markdown",
      "source": [
        "# **.shape( )**"
      ],
      "metadata": {
        "id": "fz_PYaMG7JCl"
      }
    },
    {
      "cell_type": "markdown",
      "source": [
        "Shape is an attribute that arrays have (not a method): dici solo queste sono le righe e queste le colonne"
      ],
      "metadata": {
        "id": "zpqQDDM07Lw9"
      }
    },
    {
      "cell_type": "code",
      "source": [
        "arr = np.arange(25)"
      ],
      "metadata": {
        "id": "rRcM_lcK7Nov"
      },
      "execution_count": null,
      "outputs": []
    },
    {
      "cell_type": "code",
      "source": [
        "arr.shape"
      ],
      "metadata": {
        "colab": {
          "base_uri": "https://localhost:8080/"
        },
        "id": "C3pLvxLl7O2b",
        "outputId": "760575a6-5ed2-4e43-fafb-51082bca58e9"
      },
      "execution_count": null,
      "outputs": [
        {
          "output_type": "execute_result",
          "data": {
            "text/plain": [
              "(25,)"
            ]
          },
          "metadata": {},
          "execution_count": 53
        }
      ]
    },
    {
      "cell_type": "markdown",
      "source": [
        "# **.dtype**"
      ],
      "metadata": {
        "id": "Ks7Qkj297VIB"
      }
    },
    {
      "cell_type": "markdown",
      "source": [
        "You can also grab the data type of the object in the array"
      ],
      "metadata": {
        "id": "kdKKsqQe7afX"
      }
    },
    {
      "cell_type": "code",
      "source": [
        "arr2 = np.array([1.2, 3.4, 5.6])"
      ],
      "metadata": {
        "id": "rBXgxUTR7bzN"
      },
      "execution_count": null,
      "outputs": []
    },
    {
      "cell_type": "code",
      "source": [
        "arr2.dtype"
      ],
      "metadata": {
        "id": "E1rzrQTN7dCT",
        "outputId": "9cffe8ef-9626-4232-9008-e218f289cb49",
        "colab": {
          "base_uri": "https://localhost:8080/"
        }
      },
      "execution_count": null,
      "outputs": [
        {
          "output_type": "execute_result",
          "data": {
            "text/plain": [
              "dtype('float64')"
            ]
          },
          "metadata": {},
          "execution_count": 55
        }
      ]
    }
  ]
}